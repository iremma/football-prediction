{
  "cells": [
    {
      "cell_type": "markdown",
      "metadata": {
        "id": "x0uJW5xqqqlm"
      },
      "source": [
        "# Machine learning program \" Football Player Value\"\n"
      ]
    },
    {
      "cell_type": "code",
      "execution_count": null,
      "metadata": {
        "colab": {
          "base_uri": "https://localhost:8080/"
        },
        "id": "V4Dwpm86q2jO",
        "outputId": "02b41f13-c32a-40cf-9fa3-0e91e94bdafc"
      },
      "outputs": [
        {
          "name": "stdout",
          "output_type": "stream",
          "text": [
            "Tensorflow version: 2.9.2\n"
          ]
        }
      ],
      "source": [
        "import tensorflow as tf\n",
        "from tensorflow import keras\n",
        "import pandas as pd\n",
        "import matplotlib.pyplot as plt\n",
        "import time\n",
        "import numpy as np\n",
        "\n",
        "print(\"Tensorflow version: \"+tf.__version__)"
      ]
    },
    {
      "cell_type": "markdown",
      "metadata": {
        "id": "zCo-PcwtxCbO"
      },
      "source": [
        "## Datasets"
      ]
    },
    {
      "cell_type": "code",
      "execution_count": null,
      "metadata": {
        "colab": {
          "base_uri": "https://localhost:8080/"
        },
        "id": "-SAQX4N2qqls",
        "outputId": "02c0df40-3b63-412a-e47e-c88aab7fc004"
      },
      "outputs": [
        {
          "name": "stdout",
          "output_type": "stream",
          "text": [
            "Mounted at /GoogleDrive\n"
          ]
        }
      ],
      "source": [
        "# Google file system\n",
        "from google.colab import drive\n",
        "drive.mount('/GoogleDrive', force_remount=True)\n",
        "\n",
        "ATT_FILE =   \"/GoogleDrive/My Drive/Colab Notebooks/datasets/Fifa/FootballPlayerPreparedCleanAttributes.csv\"\n",
        "LABEL_FILE = \"/GoogleDrive/My Drive/Colab Notebooks/datasets/Fifa/FootballPlayerOneHotEncodedClasses.csv\"\n",
        "\n",
        "attributes = pd.read_csv(ATT_FILE)\n",
        "\n",
        "\n",
        "label =      pd.read_csv(LABEL_FILE)"
      ]
    },
    {
      "cell_type": "markdown",
      "metadata": {
        "id": "u8YAKp6Kn-ZE"
      },
      "source": [
        "Data exploration"
      ]
    },
    {
      "cell_type": "code",
      "execution_count": null,
      "metadata": {
        "colab": {
          "base_uri": "https://localhost:8080/"
        },
        "id": "DhDDLfQmn-FJ",
        "outputId": "5f8d1be4-9145-404c-b041-d80bc8984689"
      },
      "outputs": [
        {
          "name": "stdout",
          "output_type": "stream",
          "text": [
            "[-0.2800000000000002, 0.0975609756097561, -0.0117647058823529, 0.0886075949367088, 0.2054794520547944, -0.0749999999999999, 0.1807228915662651, -0.0120481927710842, -0.1904761904761907, 0.0540540540540539, 0.0985915492957747, 0.0933333333333334, 0.1604938271604938, 0.1884057971014494, 0.036144578313253, 0.1707317073170731, 0.0952380952380951, 0.0975609756097561, 0.0540540540540539, 0.0952380952380951, 0.1807228915662653, 0.1358024691358024]\n",
            "[-0.27957821610222083, 0.053536903065346274, -0.0644176390317944, 0.06494152969682118, 0.16829381445926853, -0.08137327874953472, 0.12265362155731234, -0.030012121429521473, -0.1325370242378059, 0.0027509832124644157, 0.07609058394530444, 0.09879998345945504, 0.1259654394501187, 0.16917022198490142, -0.025505819332409547, 0.13614482255726912, 0.04341745381938903, 0.06021918239279156, 0.03649704784799681, -0.016355940713960924, 0.010054359604402156, -0.021364870639154283]\n"
          ]
        }
      ],
      "source": [
        "medians= []\n",
        "averages= []\n",
        "\n",
        "for column in attributes:\n",
        "  medians.append(attributes[column].median())\n",
        "  averages.append(attributes[column].mean())\n",
        "print(medians)\n",
        "print(averages)"
      ]
    },
    {
      "cell_type": "markdown",
      "metadata": {
        "id": "taii-Qlvv4gK"
      },
      "source": [
        "Train Test Division"
      ]
    },
    {
      "cell_type": "code",
      "execution_count": null,
      "metadata": {
        "colab": {
          "background_save": true,
          "base_uri": "https://localhost:8080/"
        },
        "id": "xfEOrwcr-ft8",
        "outputId": "163b0adf-2b0b-48e1-d4c6-4df35f22a078"
      },
      "outputs": [
        {
          "name": "stdout",
          "output_type": "stream",
          "text": [
            "16122\n",
            "Number of training examples:  12897\n",
            "Number of examples for development test:  1612\n"
          ]
        }
      ],
      "source": [
        "\n",
        "TRAIN_RATIO = 0.8\n",
        "\n",
        "n_instances = attributes.shape[0]\n",
        "print(n_instances) #Number of rows in the attributes csv\n",
        "n_train = int(n_instances*TRAIN_RATIO) #80% of data goes to training\n",
        "n_dev = int((n_instances - n_train)/2) #10% of data goes to dev/validation\n",
        "\n",
        "x_train = attributes.values[:n_train] #transforms each entry into an array [[row 1], [row 2],...]\n",
        "t_train = label.values[:n_train]\n",
        "x_dev =   attributes.values[n_train:n_train + n_dev]\n",
        "t_dev =   label.values[n_train:n_train + n_dev]\n",
        "\n",
        "INPUTS =  x_train.shape[1] #amount of attributes\n",
        "OUTPUTS = t_train.shape[1] #amount of labels\n",
        "\n",
        "\n",
        "NUM_TRAINING_EXAMPLES = int(round(x_train.shape[0]/1))\n",
        "NUM_DEV_EXAMPLES =      int(round(x_dev.shape[0]/1))\n",
        "\n",
        "print (\"Number of training examples: \", NUM_TRAINING_EXAMPLES)\n",
        "print (\"Number of examples for development test: \", NUM_DEV_EXAMPLES)"
      ]
    },
    {
      "cell_type": "markdown",
      "metadata": {
        "id": "hisRDds_kfFb"
      },
      "source": [
        "## Model\n"
      ]
    },
    {
      "cell_type": "code",
      "execution_count": null,
      "metadata": {
        "id": "9llGmGvkqqmM"
      },
      "outputs": [],
      "source": [
        "n_neurons_per_hidden_layer = [ 80,80,80] #four layers\n",
        "learning_rate = 0.001\n",
        "opt = tf.keras.optimizers.Adam(lr=learning_rate, beta_1=0.9, beta_2=0.999, epsilon=1e-8, decay=0.001, amsgrad=True, clipnorm=1.0, clipvalue=0.5)"
      ]
    },
    {
      "cell_type": "code",
      "execution_count": null,
      "metadata": {
        "id": "_HC6q86_IzO7"
      },
      "outputs": [],
      "source": [
        "model = keras.Sequential(name=\"my_model\")\n",
        "\n",
        "my_initializer= keras.initializers.RandomUniform(minval=-0.05, maxval=0.05, seed=None)\n",
        "model.add(keras.layers.InputLayer(input_shape=(INPUTS,)))\n",
        "for neurons in n_neurons_per_hidden_layer:\n",
        "  model.add(keras.layers.Dense(neurons, activation=\"relu\",kernel_initializer = my_initializer))\n",
        "model.add(tf.keras.layers.Dropout(0.3))\n",
        "model.add(keras.layers.Dense(OUTPUTS, activation=\"softmax\"))"
      ]
    },
    {
      "cell_type": "markdown",
      "metadata": {
        "id": "vIPFQkNctD3k"
      },
      "source": []
    },
    {
      "cell_type": "code",
      "execution_count": null,
      "metadata": {
        "id": "XisSOCL1UDh8"
      },
      "outputs": [],
      "source": [
        "model.compile(loss=tf.keras.losses.categorical_crossentropy,\n",
        "              optimizer=opt,\n",
        "              metrics=[\"categorical_accuracy\"])\n"
      ]
    },
    {
      "cell_type": "markdown",
      "metadata": {
        "id": "oQZsDnk8bCa8"
      },
      "source": [
        "## Training"
      ]
    },
    {
      "cell_type": "code",
      "execution_count": null,
      "metadata": {
        "id": "7xiouC6pbG0m"
      },
      "outputs": [],
      "source": [
        "n_epochs = 500\n",
        "batch_size = 256\n",
        "start_time = time.perf_counter()"
      ]
    },
    {
      "cell_type": "code",
      "execution_count": null,
      "metadata": {
        "id": "2Z79Zz4Owszp"
      },
      "outputs": [],
      "source": [
        "history = model.fit(x_train, t_train,\n",
        "                    batch_size = batch_size,\n",
        "                    epochs=n_epochs,\n",
        "                    verbose = 0,\n",
        "                    validation_data = (x_dev, t_dev))\n"
      ]
    },
    {
      "cell_type": "code",
      "execution_count": null,
      "metadata": {
        "colab": {
          "base_uri": "https://localhost:8080/"
        },
        "id": "5xUIkdFAbB4b",
        "outputId": "ae2c55b1-a2ed-4fbb-e75f-bd792b7c8cdc"
      },
      "outputs": [
        {
          "name": "stdout",
          "output_type": "stream",
          "text": [
            "Best validation model: epoch 485  - categorical_accuracy 0.8972629308700562\n",
            "Best validation model: epoch 43  - val_categorical_accuracy 0.8796526193618774\n"
          ]
        }
      ],
      "source": [
        "best_idx = int(np.argmax(history.history['categorical_accuracy']))\n",
        "best_value = np.max(history.history['categorical_accuracy'])\n",
        "print('Best validation model: epoch ' + str(best_idx+1), ' - categorical_accuracy ' + str(best_value))\n",
        "\n",
        "best_idx_v = int(np.argmax(history.history['val_categorical_accuracy']))\n",
        "best_value_v = np.max(history.history['val_categorical_accuracy'])\n",
        "print('Best validation model: epoch ' + str(best_idx_v+1), ' - val_categorical_accuracy ' + str(best_value_v))"
      ]
    },
    {
      "cell_type": "code",
      "execution_count": null,
      "metadata": {
        "id": "UtqVaSfcvbdK"
      },
      "outputs": [],
      "source": []
    },
    {
      "cell_type": "markdown",
      "metadata": {
        "id": "JFjtHnWH8-99"
      },
      "source": [
        "## Results"
      ]
    },
    {
      "cell_type": "code",
      "execution_count": null,
      "metadata": {
        "colab": {
          "base_uri": "https://localhost:8080/",
          "height": 581
        },
        "id": "ei8jQFBcgqQ1",
        "outputId": "9e5f8a83-56c6-45b5-e8f2-504dbe3d8cb2"
      },
      "outputs": [
        {
          "name": "stdout",
          "output_type": "stream",
          "text": [
            "         loss  categorical_accuracy  val_loss  val_categorical_accuracy\n",
            "0    1.145638              0.503373  0.806603                  0.625310\n",
            "1    0.658722              0.712104  0.508882                  0.769851\n",
            "2    0.489916              0.792432  0.425932                  0.821960\n",
            "3    0.429925              0.819726  0.387734                  0.826303\n",
            "4    0.399501              0.833527  0.370053                  0.839330\n",
            "..        ...                   ...       ...                       ...\n",
            "495  0.262375              0.895635  0.309414                  0.870968\n",
            "496  0.260246              0.896798  0.309450                  0.869727\n",
            "497  0.261363              0.895557  0.309864                  0.872208\n",
            "498  0.261078              0.897030  0.310396                  0.869727\n",
            "499  0.260945              0.896410  0.309590                  0.869727\n",
            "\n",
            "[500 rows x 4 columns]\n"
          ]
        },
        {
          "data": {
            "image/png": "[encoded data removed]",
            "text/plain": [
              "<Figure size 576x360 with 1 Axes>"
            ]
          },
          "metadata": {},
          "output_type": "display_data"
        }
      ],
      "source": [
        "results = pd.DataFrame(history.history)\n",
        "print(results)\n",
        "results.plot(figsize = (8, 5))\n",
        "plt.grid(True)\n",
        "plt.xlabel (\"Epochs\")\n",
        "plt.ylabel (\"Accuracy - Mean Log Loss\")\n",
        "plt.gca().set_ylim(0, 1) # set the vertical range to [0,1]\n",
        "plt.show()"
      ]
    },
    {
      "cell_type": "code",
      "execution_count": null,
      "metadata": {
        "colab": {
          "base_uri": "https://localhost:8080/"
        },
        "id": "PWFtUYNKqqmX",
        "outputId": "03873278-5794-4c4a-973c-775362e669ef"
      },
      "outputs": [
        {
          "name": "stdout",
          "output_type": "stream",
          "text": [
            "[0.89640999]\n",
            "Error (training):  10.4 %\n",
            "Error (development test):  13.0 %\n",
            "Time:  133 seconds\n",
            "Bias estimation:  0.4 %\n",
            "Variance estimation:  2.7 %\n"
          ]
        }
      ],
      "source": [
        "bayes_error =0.1\n",
        "print(results.categorical_accuracy.values[-1:])\n",
        "print (\"Error (training): \",\n",
        "       round((1 - results.categorical_accuracy.values[-1:][0])*100, 1), \"%\")\n",
        "print (\"Error (development test): \",\n",
        "       round((1 - results.val_categorical_accuracy.values[-1:][0])*100, 1), \"%\")\n",
        "print (\"Time: \",\n",
        "       round((time.perf_counter() - start_time)),\"seconds\")\n",
        "print('Bias estimation: ',\n",
        "      round((1 - results.categorical_accuracy.values[-1:][0]-bayes_error)*100, 1),'%')\n",
        "print('Variance estimation: ',\n",
        "      round((1 - results.val_categorical_accuracy.values[-1:][0]-(1-results.categorical_accuracy.values[-1:][0]))*100, 1),'%')"
      ]
    },
    {
      "cell_type": "markdown",
      "metadata": {
        "id": "y5GoyJGw55lu"
      },
      "source": [
        "\n",
        "\n",
        "```\n",
        "# This is formatted as code\n",
        "```\n",
        "\n",
        "## Test"
      ]
    },
    {
      "cell_type": "code",
      "execution_count": null,
      "metadata": {
        "id": "LmP9K-S8jQJY"
      },
      "outputs": [],
      "source": [
        "# Evaluate the model on the test data using `evaluate`\n",
        "print(\"Evaluate on test data\")\n",
        "results = model.evaluate(x_dev, t_dev)\n",
        "print(\"test loss, test acc:\", results)\n",
        "\n",
        "# Generate predictions (probabilities -- the output of the last layer)\n",
        "# on new data using `predict`\n",
        "print(\"Generate predictions \")\n",
        "predictions = model.predict(x_dev)\n",
        "print(\"predictions shape:\", predictions.shape)"
      ]
    },
    {
      "cell_type": "code",
      "source": [
        "dev_rounded_predictions=np.round(predictions)\n",
        "indices = np.argmax(predictions,1)\n",
        "for row, index in zip(dev_rounded_predictions, indices): row[index]=1\n",
        "dev_rounded_predictions[:20]"
      ],
      "metadata": {
        "id": "JZK7oJb5mTRk"
      },
      "execution_count": null,
      "outputs": []
    },
    {
      "cell_type": "code",
      "source": [
        "from sklearn.metrics import confusion_matrix\n",
        "cm=confusion_matrix(t_dev.argmax(axis=1),dev_rounded_predictions.argmax(axis=1))\n",
        "\n",
        "import seaborn as sns\n",
        "sns.heatmap(cm,  fmt='',annot=True)"
      ],
      "metadata": {
        "id": "TYxDD6X_mc3V"
      },
      "execution_count": null,
      "outputs": []
    }
  ],
  "metadata": {
    "accelerator": "GPU",
    "colab": {
      "provenance": []
    },
    "kernelspec": {
      "display_name": "Python 3",
      "name": "python3"
    },
    "language_info": {
      "codemirror_mode": {
        "name": "ipython",
        "version": 3
      },
      "file_extension": ".py",
      "mimetype": "text/x-python",
      "name": "python",
      "nbconvert_exporter": "python",
      "pygments_lexer": "ipython3",
      "version": "3.6.7"
    }
  },
  "nbformat": 4,
  "nbformat_minor": 0
}